{
 "cells": [
  {
   "cell_type": "markdown",
   "metadata": {},
   "source": [
    "- Goal: Wrangle WeRateDogs Twitter data to create interesting and trustworthy analyses and visualizations. The Twitter archive is great, but it only contains very basic tweet information. Additional gathering, then assessing and cleaning is required for \"Wow!\"-worthy analyses and visualizations.\n",
    "- doggo:\n",
    "    - A big pupper, usually older. this label does not stop a doggo from behaving like a pupper\n",
    "    - A pupper that appears to have its life in order. Probably understands taxes and whatnot\n",
    "- pupper:\n",
    "    - A small dogoo, usually younger. Can be equally, if not more mature than some doggos.\n",
    "    - A doggo that is inexperienced, unfamiliar, or in any way unprepared for the responsibilities associated with being a doggo\n",
    "- puppo:\n",
    "    - A transitional phase between pupper and doggo. Easily understood as the dog equivalent of a teenager.\n",
    "    - A dog with a mixed bag of both pupper and doggo tendencies\n",
    "- blep (verb):\n",
    "    - An extremely subtle act that occurs without the knowledge of the one who slips. The act includes one's tongue protruding ever so slightly from the mouth, usually just noticeable enough that it attracats the attention it deserves. Can last between three seconds and four days.\n",
    "- snoot:\n",
    "    - The nose of a dog. Usually found in places the dog may not fit. The location of the snoot may hint at where the dog's interest lies.\n",
    "- floof:\n",
    "    - Any dog really. However, this label is commonly given to dogs with seemingly excess fur. Comical amounts of fur on a dog will certainly earn the dog this generic name\n",
    "    - Dog fur. The term holds true whether the fur is still on the dog, or if it has been shed off.\n",
    "    \n",
    "##### Key points:\n",
    "- We only want original ratings (no retweets) that have images.\n",
    "- Fully assessing and cleaning the entire dataset requires exceptional effort so only a subset of its issues (eight (8) quality issues and two (2) tidiness issues at minimum) need to be assessed and cleaned.\n",
    "- Cleaning includes merging individual pieces of data according to the rules of tidy data.\n",
    "- The fact that the rating numerators are greater than the denominators does not need to be cleaned. This unique rating system is a big part of the popularity of WeRateDogs.\n",
    "\n",
    "##### Assessing Data for this Project:\n",
    "- After gathering each of the above pieces of data, assess them visually and programmatically for quality and tidiness issues. Detect and document at least eight (8) quality issues and two (2) tidiness issues in your wrangle_act.ipynb Jupyter Notebook. To meet specifications, the issues that satisfy the Project Motivation (see the Key Points header on the previous page) must be assessed.\n",
    "\n",
    "##### Cleaning Data for this Project:\n",
    "- Clean each of the issues you documented while assessing. Perform this cleaning in wrangle_act.ipynb as well. The result should be a high quality and tidy master pandas DataFrame (or DataFrames, if appropriate). Again, the issues that satisfy the Project Motivation must be cleaned.\n",
    "\n",
    "##### Storing, Analyzing, and Visualizing Data for this Project\n",
    "- Store the clean DataFrame(s) in a CSV file with the main one named twitter_archive_master.csv. If additional files exist because multiple tables are required for tidiness, name these files appropriately. Additionally, you may store the cleaned data in a SQLite database (which is to be submitted as well if you do).\n",
    "- Analyze and visualize your wrangled data in your wrangle_act.ipynb Jupyter Notebook. At least three (3) insights and one (1) visualization must be produced.\n",
    "\n",
    "##### Reporting for this Project\n",
    "- Create a 300-600 word written report called wrangle_report.pdf that briefly describes your wrangling efforts. This is to be framed as an internal document.\n",
    "- Create a >250 word written report called act_report.pdf that communicates the insights and displays the visualization(s) produced from your wrangled data. This is to be framed as an external document, like a blog post or magazine article, for example.\n",
    "- Both of these documents can be created in separate Jupyter Notebooks using the Markdown functionality of Jupyter Notebooks, then downloading those notebooks as PDF files (see image below). You might prefer to use a word processor like Google Docs or Microsoft Word, however."
   ]
  },
  {
   "cell_type": "code",
   "execution_count": 26,
   "metadata": {
    "collapsed": true
   },
   "outputs": [],
   "source": [
    "import os\n",
    "import requests\n",
    "import urllib.request\n",
    "import pandas as pd\n",
    "import tweepy\n",
    "import json\n",
    "\n",
    "import numpy as np\n",
    "import matplotlib.pyplot as plt\n",
    "import seaborn as sns"
   ]
  },
  {
   "cell_type": "markdown",
   "metadata": {},
   "source": [
    "# WeRateDogs Tweeter Archive"
   ]
  },
  {
   "cell_type": "markdown",
   "metadata": {},
   "source": [
    "### Gathering"
   ]
  },
  {
   "cell_type": "code",
   "execution_count": null,
   "metadata": {
    "collapsed": true
   },
   "outputs": [],
   "source": [
    "# Import CSV file\n",
    "wrd_df = pd.read_csv('twitter-archive-enhanced.csv')"
   ]
  },
  {
   "cell_type": "markdown",
   "metadata": {},
   "source": [
    "### Assessing"
   ]
  },
  {
   "cell_type": "code",
   "execution_count": null,
   "metadata": {},
   "outputs": [],
   "source": [
    "wrd_df.info()"
   ]
  },
  {
   "cell_type": "markdown",
   "metadata": {},
   "source": [
    "#### Summary Info\n",
    "- 2356 observations\n",
    "- 17 variables\n",
    "- In reply data is a response to what someone else has written\n",
    "- Retweet is to repost someone elses tweet\n",
    "- expanded urls are the source of tweets\n",
    "\n",
    "#### Data Quality Issues\n",
    "- Missing (745) name values\n",
    "    - Cannot be addressed if name was not included in tweet\n",
    "- Missing (59) expanded_urls\n",
    "    - Not to be addressed as most are for reply tweets (@screename) and will be removed from dataset for simplicity\n",
    "- 'rating_numerator' values have significant outliers (less than 10 instances)\n",
    "    - 'rating_numerator' values will need to be converted to floats to accomodate certain values from tweets\n",
    "- 'rating_denominator' values are not all 10\n",
    "- 'name' values contain some filler words (ex: the, a, an); all seem to be lowercase\n",
    "- 'expanded_url' should be changed to a more descriptive name\n",
    "\n",
    "#### Tidiness Issues\n",
    "- Doggo, floofer, pupper, puppo columns are values themselves and should be one column\n",
    "- Info regarding retweets (RT @screename) and reply tweets (@screename) may be better suited to a table on its own or not at all (retweets were requested to be disregarded)\n",
    "- Reply tweets (RT @screename) lack valuable information regarding dog ratings so will be removed\n",
    "- 'source' values lack valuable information so will be removed"
   ]
  },
  {
   "cell_type": "code",
   "execution_count": null,
   "metadata": {},
   "outputs": [],
   "source": [
    "# Looking at source column\n",
    "print(wrd_df.source.value_counts())"
   ]
  },
  {
   "cell_type": "code",
   "execution_count": null,
   "metadata": {},
   "outputs": [],
   "source": [
    "# Looking at rating_numerator column\n",
    "print(wrd_df.rating_numerator.value_counts())"
   ]
  },
  {
   "cell_type": "code",
   "execution_count": null,
   "metadata": {
    "collapsed": true
   },
   "outputs": [],
   "source": [
    "# Expand column texts to view entire strings\n",
    "pd.set_option('display.max_colwidth', -1)"
   ]
  },
  {
   "cell_type": "code",
   "execution_count": null,
   "metadata": {},
   "outputs": [],
   "source": [
    "common_numerators = [12,11,10,13,9,8,7,14,5,6,3,4]\n",
    "\n",
    "# Dataframe that contains numerators not in common_numerators list\n",
    "wrd_df[~wrd_df.rating_numerator.isin(common_numerators)]"
   ]
  },
  {
   "cell_type": "code",
   "execution_count": null,
   "metadata": {},
   "outputs": [],
   "source": [
    "# Looking at rating_denominator column\n",
    "print(wrd_df.rating_denominator.value_counts())"
   ]
  },
  {
   "cell_type": "code",
   "execution_count": null,
   "metadata": {},
   "outputs": [],
   "source": [
    "# Evaluate why denominators are not 10\n",
    "wrd_df[wrd_df.rating_denominator != 10]"
   ]
  },
  {
   "cell_type": "markdown",
   "metadata": {},
   "source": [
    "- Tweet ID's with invalid denominator by visual inspection (excluding retweets, replies, and missing expanded urls):\n",
    "    - 810984652412424192 (no score available)\n",
    "    - 740373189193256964 (14/10)\n",
    "    - 722974582966214656 (13/10)\n",
    "    - 716439118184652801 (11/10)\n",
    "    - 686035780142297088 (no score available)\n",
    "    - 682962037429899265 (10/10)\n",
    "    - 666287406224695296 (9/10)"
   ]
  },
  {
   "cell_type": "code",
   "execution_count": null,
   "metadata": {
    "collapsed": true
   },
   "outputs": [],
   "source": [
    "# Will be used later to fix invalid ratings\n",
    "invalid_rating_ids = [810984652412424192, 740373189193256964, 722974582966214656, 716439118184652801, 686035780142297088,\n",
    "                      682962037429899265, 666287406224695296, 786709082849828864, 778027034220126208, 680494726643068929]"
   ]
  },
  {
   "cell_type": "code",
   "execution_count": null,
   "metadata": {},
   "outputs": [],
   "source": [
    "# Looking at name column\n",
    "print(wrd_df.name.value_counts())"
   ]
  },
  {
   "cell_type": "code",
   "execution_count": null,
   "metadata": {},
   "outputs": [],
   "source": [
    "# No duplicate tweet id's\n",
    "print(wrd_df.tweet_id.value_counts())"
   ]
  },
  {
   "cell_type": "code",
   "execution_count": null,
   "metadata": {},
   "outputs": [],
   "source": [
    "# Looking at dog stages\n",
    "print(wrd_df.doggo.value_counts())\n",
    "print(wrd_df.floofer.value_counts())\n",
    "print(wrd_df.pupper.value_counts())\n",
    "print(wrd_df.puppo.value_counts())"
   ]
  },
  {
   "cell_type": "code",
   "execution_count": null,
   "metadata": {},
   "outputs": [],
   "source": [
    "# Seeing if certain combinations of dog stages exist for given booleans\n",
    "print('Doggo/Floofer:', len(wrd_df[(wrd_df['doggo'] == 'doggo') & (wrd_df['floofer'] == 'floofer')]))\n",
    "print('Doggo/Pupper:', len(wrd_df[(wrd_df['doggo'] == 'doggo') & (wrd_df['pupper'] == 'pupper')]))\n",
    "print('Doggo/Puppo:', len(wrd_df[(wrd_df['doggo'] == 'doggo') & (wrd_df['puppo'] == 'puppo')]))\n",
    "print('Floofer/Pupper:', len(wrd_df[(wrd_df['floofer'] == 'floofer') & (wrd_df['pupper'] == 'pupper')]))\n",
    "print('Floofer/Puppo:',len(wrd_df[(wrd_df['floofer'] == 'floofer') & (wrd_df['puppo'] == 'puppo')]))\n",
    "print('Pupper/Puppo:', len(wrd_df[(wrd_df['pupper'] == 'pupper') & (wrd_df['puppo'] == 'puppo')]))"
   ]
  },
  {
   "cell_type": "markdown",
   "metadata": {},
   "source": [
    "#### Data Quality Issues\n",
    "- Missing (745) name values\n",
    "    - Cannot be addressed if name was not included in tweet\n",
    "- Missing (59) expanded_urls\n",
    "    - Not to be addressed as most are for reply tweets (@screename) and will be removed from dataset for simplicity\n",
    "- 'rating_numerator' values have significant outliers (less than 10 instances)\n",
    "    - 'rating_numerator' values will need to be converted to floats to accomodate certain values from tweets\n",
    "- 'rating_denominator' values are not all 10\n",
    "- 'name' values contain some filler words (ex: the, a, an); all seem to be lowercase\n",
    "- 'expanded_url' should be changed to a more descriptive name\n",
    "\n",
    "#### Tidiness Issues\n",
    "- Doggo, floofer, pupper, puppo columns are values themselves and should be one column\n",
    "- Info regarding retweets (RT @screename) and reply tweets (@screename) may be better suited to a table on its own or not at all (retweets were requested to be disregarded)\n",
    "- Reply tweets (RT @screename) lack expanded_urls so will be removed for simplicity\n",
    "- 'source' values lack valuable information so will be removed"
   ]
  },
  {
   "cell_type": "markdown",
   "metadata": {},
   "source": [
    "### Cleaning"
   ]
  },
  {
   "cell_type": "code",
   "execution_count": null,
   "metadata": {
    "collapsed": true
   },
   "outputs": [],
   "source": [
    "wrd_clean = wrd_df.copy()"
   ]
  },
  {
   "cell_type": "code",
   "execution_count": null,
   "metadata": {},
   "outputs": [],
   "source": [
    "wrd_clean.head(2)"
   ]
  },
  {
   "cell_type": "markdown",
   "metadata": {},
   "source": [
    "#### Issue: \n",
    "- Reply tweets and retweets removal for simplicity\n",
    "\n",
    "#### Solution: \n",
    "- Removal of observations regarding reply tweets and retweets"
   ]
  },
  {
   "cell_type": "code",
   "execution_count": null,
   "metadata": {},
   "outputs": [],
   "source": [
    "# Removing observations\n",
    "print('Number of observations:', len(wrd_clean))\n",
    "\n",
    "# Remove observations that contain replied tweets\n",
    "wrd_clean = wrd_clean[wrd_clean['in_reply_to_status_id'].isnull()]\n",
    "print('Number of observations:', len(wrd_clean))\n",
    "\n",
    "# Remove observations that contain retweets\n",
    "wrd_clean = wrd_clean[wrd_clean['retweeted_status_id'].isnull()]\n",
    "print('Number of observations:', len(wrd_clean))"
   ]
  },
  {
   "cell_type": "markdown",
   "metadata": {
    "collapsed": true
   },
   "source": [
    "#### Issue: \n",
    "- 'expanded_urls' have missing values\n",
    "\n",
    "#### Solution: \n",
    "- Removal of observations that have missing values for 'expanded_urls'"
   ]
  },
  {
   "cell_type": "code",
   "execution_count": null,
   "metadata": {},
   "outputs": [],
   "source": [
    "# Remove observations that do not contain a 'expanded urls'\n",
    "wrd_clean = wrd_clean.dropna(subset=['expanded_urls'])\n",
    "print('Number of observations:', len(wrd_clean))"
   ]
  },
  {
   "cell_type": "markdown",
   "metadata": {
    "collapsed": true
   },
   "source": [
    "#### Issue: \n",
    "- A number of columns are no longer of use due to removal of retweets and reply tweets\n",
    "\n",
    "#### Solution: \n",
    "- Removal of unwanted_columns"
   ]
  },
  {
   "cell_type": "code",
   "execution_count": null,
   "metadata": {
    "collapsed": true
   },
   "outputs": [],
   "source": [
    "# Removing Columns\n",
    "unwanted_columns = ['in_reply_to_status_id', 'in_reply_to_user_id', 'source', \n",
    "                    'retweeted_status_id',  'retweeted_status_user_id', 'retweeted_status_timestamp']\n",
    "\n",
    "wrd_clean = wrd_clean.drop(labels=unwanted_columns, axis=1)"
   ]
  },
  {
   "cell_type": "code",
   "execution_count": null,
   "metadata": {},
   "outputs": [],
   "source": [
    "# Inspection\n",
    "wrd_clean.head(2)"
   ]
  },
  {
   "cell_type": "markdown",
   "metadata": {},
   "source": [
    "#### Issue: \n",
    "- Dog stage columns (doggo, floofer, pupper, puppo) are values themselves and should be one category\n",
    "\n",
    "#### Solution: \n",
    "- Melt dataframe to one column for (doggo, floofer, pupper, puppo) columns. Create 3 dataframes ('None' values, single_stage values, multi_stage values) and append together to make full dataframe. Account for tweets with multiple dog_stages"
   ]
  },
  {
   "cell_type": "code",
   "execution_count": null,
   "metadata": {},
   "outputs": [],
   "source": [
    "# Number of multiple stage values for dog_stage columns\n",
    "print(len(wrd_clean[(wrd_clean['doggo'] == 'doggo') & (wrd_clean['floofer'] == 'floofer')]))\n",
    "print(len(wrd_clean[(wrd_clean['doggo'] == 'doggo') & (wrd_clean['pupper'] == 'pupper')]))\n",
    "print(len(wrd_clean[(wrd_clean['doggo'] == 'doggo') & (wrd_clean['puppo'] == 'puppo')]))"
   ]
  },
  {
   "cell_type": "code",
   "execution_count": null,
   "metadata": {},
   "outputs": [],
   "source": [
    "# tweet_id's with multiple stage columns; \n",
    "# will be used post melt, to narrow down those id's and convert category to multiple\n",
    "multi_stage = wrd_clean[((wrd_clean['doggo'] == 'doggo') & (wrd_clean['floofer'] == 'floofer')) |\n",
    "                     ((wrd_clean['doggo'] == 'doggo') & (wrd_clean['pupper'] == 'pupper')) |\n",
    "                     ((wrd_clean['doggo'] == 'doggo') & (wrd_clean['puppo'] == 'puppo'))]\n",
    "\n",
    "# Create series of id's that will be categorized as multiple for 'dog_stage' column post melt\n",
    "multi_stage_ids = multi_stage['tweet_id']\n",
    "\n",
    "multi_stage_ids"
   ]
  },
  {
   "cell_type": "code",
   "execution_count": null,
   "metadata": {},
   "outputs": [],
   "source": [
    "# Melting Columns\n",
    "unchanged_columns = ['tweet_id', 'timestamp', 'text', 'expanded_urls',\n",
    "                    'rating_numerator', 'rating_denominator', 'name']\n",
    "\n",
    "# Melt dataframe to long format\n",
    "wrd_melt = pd.melt(wrd_clean, id_vars=unchanged_columns, value_name='dog_stage')\n",
    "\n",
    "# Remove 'variable' column\n",
    "wrd_melt = wrd_melt.drop(labels='variable', axis=1)\n",
    "\n",
    "\"\"\"Dataframe contains multiple (4X) of each tweet_id. Will need to remove duplicate ID's\"\"\"\n",
    "wrd_melt[wrd_melt['tweet_id'] == 733109485275860992] # ID of a multi_stage dog"
   ]
  },
  {
   "cell_type": "code",
   "execution_count": null,
   "metadata": {},
   "outputs": [],
   "source": [
    "# Drops all duplicate id's that have duplicate dog_stage value\n",
    "wrd_melt = wrd_melt.drop_duplicates(subset=['tweet_id', 'dog_stage']) \n",
    "\n",
    "\"\"\"Dataframe contains multiple entries for tweet_id's that have a dog_stage value in addition to value 'None' \"\"\"\n",
    "wrd_melt[wrd_melt['tweet_id'] == 733109485275860992]"
   ]
  },
  {
   "cell_type": "code",
   "execution_count": null,
   "metadata": {},
   "outputs": [],
   "source": [
    "# Series of booleans of all duplicates\n",
    "duplicate_position = wrd_melt.duplicated(subset='tweet_id', keep = False) # keep = False -> Mark all duplicates as True \n",
    "\n",
    "# Create Dataframe of all id's with a dog_stage value other than 'None'\n",
    "duplicate_df = wrd_melt[duplicate_position] # df with duplicates\n",
    "duplicate_df = duplicate_df[duplicate_df['dog_stage'] != 'None'] # keep duplicates that do not have 'None'\n",
    "\n",
    "\"\"\"Dataframe contains entries that have a value other than 'None' for dog_stage\"\"\"\n",
    "duplicate_df[duplicate_df['tweet_id'] == 733109485275860992]"
   ]
  },
  {
   "cell_type": "code",
   "execution_count": null,
   "metadata": {},
   "outputs": [],
   "source": [
    "# Create dataframe containing only tweets with dog_stage == 'None'\n",
    "none_df = wrd_melt[~duplicate_position] # ~ -> Inverse series of booleans\n",
    "none_df.info()\n",
    "\n",
    "\"\"\"Dataframe will be used later to append edited down dataframes from duplicate_df\"\"\""
   ]
  },
  {
   "cell_type": "code",
   "execution_count": null,
   "metadata": {},
   "outputs": [],
   "source": [
    "# Create Series of multi_stage dogs\n",
    "multi_stage_dogs = duplicate_df.duplicated(subset='tweet_id', keep = 'first') # Marks all duplicates except the first as True\n",
    "\n",
    "# Create Series of single_stage dogs\n",
    "single_stage_dogs = ~duplicate_df.duplicated(subset='tweet_id', keep = False)\n",
    "\n",
    "# Create Dataframe for multi_stage dogs\n",
    "multi_stage_df = duplicate_df[multi_stage_dogs]\n",
    "\n",
    "\"\"\"multi_stage_df is a dataframe containing only multi-stage entries\"\"\"\n",
    "multi_stage_df[multi_stage_df['tweet_id'] == 733109485275860992]"
   ]
  },
  {
   "cell_type": "code",
   "execution_count": null,
   "metadata": {},
   "outputs": [],
   "source": [
    "# Create Dataframe for single_stage dogs\n",
    "single_stage_df = duplicate_df[single_stage_dogs]\n",
    "single_stage_df.info()"
   ]
  },
  {
   "cell_type": "code",
   "execution_count": null,
   "metadata": {},
   "outputs": [],
   "source": [
    "# Convert multi_stage_df dog_stage category values to multiple\n",
    "multi_stage_df['dog_stage'] = 'multiple'\n",
    "print(multi_stage_ids) # for comparison purposes\n",
    "multi_stage_df['tweet_id']"
   ]
  },
  {
   "cell_type": "code",
   "execution_count": null,
   "metadata": {
    "collapsed": true
   },
   "outputs": [],
   "source": [
    "# Append all dataframes (None, single_stage, and multi_stage) together\n",
    "appending_dfs = [single_stage_df, multi_stage_df]\n",
    "wrd_clean_2 = none_df.append(appending_dfs)"
   ]
  },
  {
   "cell_type": "code",
   "execution_count": null,
   "metadata": {},
   "outputs": [],
   "source": [
    "# Before\n",
    "wrd_clean.info()"
   ]
  },
  {
   "cell_type": "code",
   "execution_count": null,
   "metadata": {},
   "outputs": [],
   "source": [
    "# After\n",
    "wrd_clean_2.info()"
   ]
  },
  {
   "cell_type": "code",
   "execution_count": null,
   "metadata": {
    "collapsed": true
   },
   "outputs": [],
   "source": [
    "# Reset index\n",
    "wrd_clean_2 = wrd_clean_2.reset_index(drop=True)"
   ]
  },
  {
   "cell_type": "markdown",
   "metadata": {
    "collapsed": true
   },
   "source": [
    "#### Issue: \n",
    "- 'name' variable contains values that aren't names (a, an, the, etc.)\n",
    "\n",
    "#### Solution: \n",
    "- Change lowercase values for 'name' variable to 'None'"
   ]
  },
  {
   "cell_type": "code",
   "execution_count": null,
   "metadata": {},
   "outputs": [],
   "source": [
    "pattern = r'^[a-z]' # first letter is lowercase\n",
    "\n",
    "# Create Series where regex pattern is satisfied\n",
    "lowercase_values = wrd_clean_2.name.str.contains(pattern)\n",
    "lowercase_values.value_counts() "
   ]
  },
  {
   "cell_type": "code",
   "execution_count": null,
   "metadata": {
    "collapsed": true
   },
   "outputs": [],
   "source": [
    "# Create Dataframe that contains observations with lowercase names\n",
    "lowercase_df = wrd_clean_2[lowercase_values]"
   ]
  },
  {
   "cell_type": "code",
   "execution_count": null,
   "metadata": {},
   "outputs": [],
   "source": [
    "lowercase_names = []\n",
    "\n",
    "# add lowercase_df.name elements to a list; forms list of words to be replaced\n",
    "for element in lowercase_df.name:\n",
    "    if element not in lowercase_names:\n",
    "        lowercase_names.append(element)\n",
    "        \n",
    "print('Name values to be replaced:', lowercase_names)"
   ]
  },
  {
   "cell_type": "code",
   "execution_count": null,
   "metadata": {
    "collapsed": true
   },
   "outputs": [],
   "source": [
    "wrd_clean_3 = wrd_clean_2.copy()"
   ]
  },
  {
   "cell_type": "code",
   "execution_count": null,
   "metadata": {
    "collapsed": true
   },
   "outputs": [],
   "source": [
    "# Conversion of lowercase names to 'None'\n",
    "wrd_clean_3.name.replace(to_replace=lowercase_names, value='None', inplace=True)"
   ]
  },
  {
   "cell_type": "code",
   "execution_count": null,
   "metadata": {},
   "outputs": [],
   "source": [
    "# Before\n",
    "wrd_clean_2.name.value_counts()"
   ]
  },
  {
   "cell_type": "code",
   "execution_count": null,
   "metadata": {},
   "outputs": [],
   "source": [
    "# After\n",
    "wrd_clean_3.name.value_counts()"
   ]
  },
  {
   "cell_type": "markdown",
   "metadata": {},
   "source": [
    "#### Issue: \n",
    "- Invalid 'rating_denominator' and 'rating_numerator' values\n",
    "\n",
    "#### Solution: \n",
    "- Change 'numerator_rating' from int to float dtype. Replace each incorrect value with appropriate value marked in notes.\n",
    "\n",
    "#### Notes from assessment:\n",
    "- 810984652412424192 (no score available, will use median value of numerator and 10 as denominator)\n",
    "- 740373189193256964 (14/10)\n",
    "- 722974582966214656 (13/10)\n",
    "- 716439118184652801 (11/10)\n",
    "- 686035780142297088 (no score available, will use median value of numerator and 10 as denominator)\n",
    "- 682962037429899265 (10/10)\t\n",
    "- 666287406224695296 (9/10)\n",
    "- 786709082849828864 (9.75/10)\n",
    "- 778027034220126208 (11.27/10)\n",
    "- 680494726643068929 (11.26/10)"
   ]
  },
  {
   "cell_type": "code",
   "execution_count": null,
   "metadata": {},
   "outputs": [],
   "source": [
    "invalid_rating_ids"
   ]
  },
  {
   "cell_type": "code",
   "execution_count": null,
   "metadata": {
    "collapsed": true
   },
   "outputs": [],
   "source": [
    "wrd_clean_4 = wrd_clean_3.copy()"
   ]
  },
  {
   "cell_type": "code",
   "execution_count": null,
   "metadata": {},
   "outputs": [],
   "source": [
    "# Convert rating_numerator to dtype float\n",
    "wrd_clean_4['rating_numerator'] = wrd_clean_4['rating_numerator'] * 1.0\n",
    "\n",
    "wrd_clean_4.info()"
   ]
  },
  {
   "cell_type": "code",
   "execution_count": null,
   "metadata": {},
   "outputs": [],
   "source": [
    "# Create Series of booleans where invalid_ratings_ids are true\n",
    "invalid_series = wrd_clean_4.tweet_id.isin(invalid_rating_ids)\n",
    "\n",
    "# Create Dataframe of invalid_ratings_ids to see index values\n",
    "invalid_df = wrd_clean_4[invalid_series]\n",
    "invalid_df"
   ]
  },
  {
   "cell_type": "code",
   "execution_count": null,
   "metadata": {
    "collapsed": true
   },
   "outputs": [],
   "source": [
    "# Median value of rating_numerator\n",
    "numerator_median = wrd_clean_4.rating_numerator.median()\n",
    "\n",
    "# Replace 'rating_numerator' values\n",
    "wrd_clean_4.at[331, 'rating_numerator'] = numerator_median\n",
    "wrd_clean_4.at[437, 'rating_numerator'] = 9.75\n",
    "wrd_clean_4.at[693, 'rating_numerator'] = 14\n",
    "wrd_clean_4.at[765, 'rating_numerator'] = 13\n",
    "wrd_clean_4.at[795, 'rating_numerator'] = 11\n",
    "wrd_clean_4.at[1155, 'rating_numerator'] = 10\n",
    "wrd_clean_4.at[1195, 'rating_numerator'] = 11.26\n",
    "wrd_clean_4.at[1738, 'rating_numerator'] = 9\n",
    "wrd_clean_4.at[1872, 'rating_numerator'] = 11.27"
   ]
  },
  {
   "cell_type": "code",
   "execution_count": null,
   "metadata": {},
   "outputs": [],
   "source": [
    "# Before\n",
    "wrd_clean_3.iloc[437]"
   ]
  },
  {
   "cell_type": "code",
   "execution_count": null,
   "metadata": {},
   "outputs": [],
   "source": [
    "# After\n",
    "wrd_clean_4.iloc[437]"
   ]
  },
  {
   "cell_type": "markdown",
   "metadata": {},
   "source": [
    "#### Issue: \n",
    "- 'expanded_url' should have a more descriptive name\n",
    "\n",
    "#### Solution: \n",
    "- Change column name to 'tweet_urls'"
   ]
  },
  {
   "cell_type": "code",
   "execution_count": null,
   "metadata": {
    "collapsed": true
   },
   "outputs": [],
   "source": [
    "wrd_clean_5 = wrd_clean_4.copy()\n",
    "\n",
    "# Change a specific columns name\n",
    "wrd_clean_5 = wrd_clean_5.rename(columns = {'expanded_urls':'tweet_urls'})"
   ]
  },
  {
   "cell_type": "code",
   "execution_count": null,
   "metadata": {},
   "outputs": [],
   "source": [
    "# Before\n",
    "wrd_clean_4.head(1)"
   ]
  },
  {
   "cell_type": "code",
   "execution_count": null,
   "metadata": {},
   "outputs": [],
   "source": [
    "# After\n",
    "wrd_clean_5.head(1)"
   ]
  },
  {
   "cell_type": "markdown",
   "metadata": {},
   "source": [
    "### Creating Additional Data"
   ]
  },
  {
   "cell_type": "code",
   "execution_count": null,
   "metadata": {
    "collapsed": true
   },
   "outputs": [],
   "source": [
    "# Adding Columns\n",
    "wrd_clean_6 = wrd_clean_5.copy()\n",
    "\n",
    "# Create a rating_score from numerator and denominator ratings\n",
    "wrd_clean_6['rating_score'] = wrd_clean_6['rating_numerator'] / wrd_clean_6['rating_denominator']"
   ]
  },
  {
   "cell_type": "code",
   "execution_count": null,
   "metadata": {},
   "outputs": [],
   "source": [
    "wrd_clean_6.head(1)"
   ]
  },
  {
   "cell_type": "code",
   "execution_count": null,
   "metadata": {},
   "outputs": [],
   "source": [
    "# Change column order\n",
    "wrd_clean_6 = wrd_clean_6.reindex_axis(['tweet_id', 'timestamp', 'text', 'tweet_urls',\n",
    "                                       'rating_numerator', 'rating_denominator', 'rating_score',\n",
    "                                       'name', 'dog_stage'], axis=1)\n",
    "\n",
    "wrd_clean_6.head(1)"
   ]
  },
  {
   "cell_type": "markdown",
   "metadata": {},
   "source": [
    "# Dog Classification"
   ]
  },
  {
   "cell_type": "markdown",
   "metadata": {},
   "source": [
    "### Gathering"
   ]
  },
  {
   "cell_type": "code",
   "execution_count": 24,
   "metadata": {
    "collapsed": true
   },
   "outputs": [],
   "source": [
    "tsv_url = 'https://d17h27t6h515a5.cloudfront.net/topher/2017/August/599fd2ad_image-predictions/image-predictions.tsv'\n",
    "\n",
    "# Download TSV file from a url; neural network dog classification\n",
    "dog_class = pd.read_csv(tsv_url, sep='\\t')"
   ]
  },
  {
   "cell_type": "code",
   "execution_count": 31,
   "metadata": {},
   "outputs": [],
   "source": [
    "# Save file to folder\n",
    "# urllib.request.urlretrieve(tsv_url, '.../AnacondaProjects/Udacity-ND-Data_Analyst/7-Data_Wrangling/image-predictions.tsv')"
   ]
  },
  {
   "cell_type": "markdown",
   "metadata": {},
   "source": [
    "### Assessing"
   ]
  },
  {
   "cell_type": "code",
   "execution_count": null,
   "metadata": {},
   "outputs": [],
   "source": [
    "dog_class.info()"
   ]
  },
  {
   "cell_type": "markdown",
   "metadata": {},
   "source": [
    "#### Summary Info\n",
    "- 2075 observations\n",
    "- 12 variables\n",
    "- img_num is the number of the image in the tweet (tweets can contain 4 images)\n",
    "- p1-p3 are 3 top predictions for an image in a tweet by how confident in percent\n",
    "- p1_dog indicates wether or not the image is of a dog\n",
    "\n",
    "#### Data Quality Issues\n",
    "- None currently present\n",
    "\n",
    "#### Tidiness Issues\n",
    "- None currently present"
   ]
  },
  {
   "cell_type": "code",
   "execution_count": null,
   "metadata": {},
   "outputs": [],
   "source": [
    "dog_class.head()"
   ]
  },
  {
   "cell_type": "code",
   "execution_count": null,
   "metadata": {},
   "outputs": [],
   "source": [
    "# Check for duplicates\n",
    "duplicates = dog_class.duplicated(subset='tweet_id', keep = False) # Mark all duplicates as True\n",
    "duplicates.value_counts()"
   ]
  },
  {
   "cell_type": "markdown",
   "metadata": {},
   "source": [
    "# Twitter API Data"
   ]
  },
  {
   "cell_type": "markdown",
   "metadata": {},
   "source": [
    "#### Gather:\n",
    "- Each tweet's retweet count and favorite (i.e. \"like\") count at minimum, and any additional data you find interesting. Using the tweet IDs in the WeRateDogs Twitter archive, query the Twitter API for each tweet's JSON data using Python's Tweepy library and store each tweet's entire set of JSON data in a file called tweet_json.txt file. Each tweet's JSON data should be written to its own line. Then read this .txt file line by line into a pandas DataFrame with (at minimum) tweet ID, retweet count, and favorite count. Note: do not include your Twitter API keys and access tokens in your project submission.\n",
    "\n",
    "#### How to Query Twitter Data\n",
    "- In this project, you'll be using Tweepy to query Twitter's API for additional data beyond the data included in the WeRateDogs Twitter archive. This additional data will include retweet count and favorite count.\n",
    "\n",
    "### Gathering"
   ]
  },
  {
   "cell_type": "code",
   "execution_count": null,
   "metadata": {},
   "outputs": [],
   "source": [
    "# Collect tweet_ids from cleaned WeRateDogs dataset\n",
    "tweet_ids = wrd_clean_6['tweet_id']\n",
    "\n",
    "# How many tweet_ids\n",
    "print('Number of tweets:', len(tweet_ids))"
   ]
  },
  {
   "cell_type": "code",
   "execution_count": null,
   "metadata": {
    "collapsed": true
   },
   "outputs": [],
   "source": [
    "# Querying the twitter API\n",
    "\n",
    "import tweepy\n",
    "import json\n",
    "\n",
    "consumer_key = ''\n",
    "consumer_secret = ''\n",
    "access_token = ''\n",
    "access_secret = ''\n",
    "\n",
    "auth = tweepy.OAuthHandler(consumer_key, consumer_secret)\n",
    "auth.set_access_token(access_token, access_secret)\n",
    "\n",
    "# Construct the API instance\n",
    "api = tweepy.API(auth, wait_on_rate_limit=True, wait_on_rate_limit_notify=True)"
   ]
  },
  {
   "cell_type": "code",
   "execution_count": null,
   "metadata": {
    "collapsed": true
   },
   "outputs": [],
   "source": [
    "\"\"\"\n",
    "ONLY RUN SCRIPT ONCE, UNLESS TWITTER ID'S QUERIED HAS CHANGED\n",
    "\"\"\"\n",
    "\n",
    "status_list = []\n",
    "\n",
    "# Iterate over tweet_ids to get information on each\n",
    "for tweet_id in tweet_ids:\n",
    "    try:\n",
    "        tweet = api.get_status(tweet_id, tweet_mode='extended') # returns a status object\n",
    "        \n",
    "    # Account for missing id's error\n",
    "    except tweepy.TweepError:\n",
    "        continue\n",
    "    status_list.append(tweet) # add each status to status_list"
   ]
  },
  {
   "cell_type": "code",
   "execution_count": null,
   "metadata": {
    "collapsed": true
   },
   "outputs": [],
   "source": [
    "\"\"\"\n",
    "ONLY RUN SCRIPT ONCE, UNLESS TWITTER ID'S QUERIED HAS CHANGED\n",
    "\"\"\"\n",
    "\n",
    "# Converts each status in status list to a string and appends each string to a txt file\n",
    "with open('tweet_json.txt', 'a') as outfile:\n",
    "    for status in status_list:\n",
    "        json.dump(status._json, outfile) # converts status object to json obj and then append json obj as a string to file\n",
    "        outfile.write('\\n') # adds a new line after each iteration\n",
    "\n",
    "print('Number of lines of text:', len(status_list))"
   ]
  },
  {
   "cell_type": "code",
   "execution_count": null,
   "metadata": {
    "collapsed": true
   },
   "outputs": [],
   "source": [
    "# Reading in JSON files to a list\n",
    "tweets = []\n",
    "with open('tweet_json.txt', 'r') as f:\n",
    "    for line in f.readlines(): # readlines -> reads each line of the file and appends each line to a list and returns that list\n",
    "        tweets.append(json.loads(line)) # adds each json line to tweets list"
   ]
  },
  {
   "cell_type": "code",
   "execution_count": null,
   "metadata": {
    "collapsed": true
   },
   "outputs": [],
   "source": [
    "twitter_api_df = pd.DataFrame(tweets)"
   ]
  },
  {
   "cell_type": "markdown",
   "metadata": {},
   "source": [
    "### Assessing"
   ]
  },
  {
   "cell_type": "code",
   "execution_count": null,
   "metadata": {},
   "outputs": [],
   "source": [
    "twitter_api_df.info()"
   ]
  },
  {
   "cell_type": "markdown",
   "metadata": {},
   "source": [
    "#### Summary Info\n",
    "- 2094 observations\n",
    "- 30 columns\n",
    "- Many columns are not useful for analysis and will be dropped.\n",
    "- Only 'id', 'favorite_count', and 'retweet_count' will be collected\n",
    "\n",
    "#### Data Quality Issues\n",
    "- 'id' should be changed to be more descriptive\n",
    "\n",
    "#### Tidiness Issues\n",
    "- Many variables are not important for future data analysis and should be removed"
   ]
  },
  {
   "cell_type": "code",
   "execution_count": null,
   "metadata": {},
   "outputs": [],
   "source": [
    "# Check for duplicates\n",
    "twitter_duplicates = twitter_api_df.duplicated(subset='id', keep = False) # Mark all duplicates as True\n",
    "twitter_duplicates.value_counts()"
   ]
  },
  {
   "cell_type": "markdown",
   "metadata": {},
   "source": [
    "### Cleaning"
   ]
  },
  {
   "cell_type": "code",
   "execution_count": null,
   "metadata": {},
   "outputs": [],
   "source": [
    "# Create Dataframe with columns of interest\n",
    "columns_of_interest = ['id', 'favorite_count', 'retweet_count']\n",
    "twitter_api_clean = twitter_api_df.filter(columns_of_interest, axis=1)\n",
    "twitter_api_clean.info()"
   ]
  },
  {
   "cell_type": "markdown",
   "metadata": {},
   "source": [
    "#### Issue: \n",
    "- 'id' is not very descriptive.\n",
    "\n",
    "#### Solution: \n",
    "- Change column name to 'tweet_id' to match other datasets"
   ]
  },
  {
   "cell_type": "code",
   "execution_count": null,
   "metadata": {},
   "outputs": [],
   "source": [
    "# Change a specific columns name\n",
    "twitter_api_clean = twitter_api_clean.rename(columns = {'id':'tweet_id'})\n",
    "twitter_api_clean.head(2)"
   ]
  },
  {
   "cell_type": "markdown",
   "metadata": {},
   "source": [
    "# Merging Datasets"
   ]
  },
  {
   "cell_type": "code",
   "execution_count": null,
   "metadata": {},
   "outputs": [],
   "source": [
    "# Merge WeRateDogs Archive with Dog Classification datasets\n",
    "merge_df_1 = pd.merge(wrd_clean_6, twitter_api_clean, on='tweet_id', how='inner')\n",
    "merge_df_1.info()"
   ]
  },
  {
   "cell_type": "markdown",
   "metadata": {
    "collapsed": true
   },
   "source": [
    "### Assessing"
   ]
  },
  {
   "cell_type": "code",
   "execution_count": null,
   "metadata": {},
   "outputs": [],
   "source": [
    "# Merge Twitter_API dataset with merged dataset\n",
    "master_df = pd.merge(merge_df_1, dog_class, on='tweet_id', how='inner')\n",
    "master_df.info()"
   ]
  },
  {
   "cell_type": "markdown",
   "metadata": {
    "collapsed": true
   },
   "source": [
    "#### Summary Info\n",
    "- 1971 observations\n",
    "- 22 columns\n",
    "\n",
    "#### Data Quality Issues\n",
    "- No apparent data quality issues\n",
    "\n",
    "#### Tidiness Issues\n",
    "- No apparent tidiness issues"
   ]
  },
  {
   "cell_type": "code",
   "execution_count": null,
   "metadata": {
    "collapsed": true
   },
   "outputs": [],
   "source": [
    "# Convert dataframe to csv file\n",
    "master_df.to_csv('twitter_archive_master.csv', encoding='utf-8', index=False)"
   ]
  },
  {
   "cell_type": "code",
   "execution_count": null,
   "metadata": {},
   "outputs": [],
   "source": [
    "master_df[master_df.rating_score > 1.4]"
   ]
  },
  {
   "cell_type": "markdown",
   "metadata": {
    "collapsed": true
   },
   "source": [
    "# Visualizations"
   ]
  },
  {
   "cell_type": "code",
   "execution_count": 56,
   "metadata": {},
   "outputs": [
    {
     "data": {
      "text/html": [
       "<div>\n",
       "<style>\n",
       "    .dataframe thead tr:only-child th {\n",
       "        text-align: right;\n",
       "    }\n",
       "\n",
       "    .dataframe thead th {\n",
       "        text-align: left;\n",
       "    }\n",
       "\n",
       "    .dataframe tbody tr th {\n",
       "        vertical-align: top;\n",
       "    }\n",
       "</style>\n",
       "<table border=\"1\" class=\"dataframe\">\n",
       "  <thead>\n",
       "    <tr style=\"text-align: right;\">\n",
       "      <th></th>\n",
       "      <th>tweet_id</th>\n",
       "      <th>timestamp</th>\n",
       "      <th>text</th>\n",
       "      <th>tweet_urls</th>\n",
       "      <th>rating_numerator</th>\n",
       "      <th>rating_denominator</th>\n",
       "      <th>rating_score</th>\n",
       "      <th>name</th>\n",
       "      <th>dog_stage</th>\n",
       "      <th>favorite_count</th>\n",
       "      <th>...</th>\n",
       "      <th>img_num</th>\n",
       "      <th>p1</th>\n",
       "      <th>p1_conf</th>\n",
       "      <th>p1_dog</th>\n",
       "      <th>p2</th>\n",
       "      <th>p2_conf</th>\n",
       "      <th>p2_dog</th>\n",
       "      <th>p3</th>\n",
       "      <th>p3_conf</th>\n",
       "      <th>p3_dog</th>\n",
       "    </tr>\n",
       "  </thead>\n",
       "  <tbody>\n",
       "    <tr>\n",
       "      <th>0</th>\n",
       "      <td>892420643555336193</td>\n",
       "      <td>2017-08-01 16:23:56 +0000</td>\n",
       "      <td>This is Phineas. He's a mystical boy. Only eve...</td>\n",
       "      <td>https://twitter.com/dog_rates/status/892420643...</td>\n",
       "      <td>13.0</td>\n",
       "      <td>10</td>\n",
       "      <td>1.3</td>\n",
       "      <td>Phineas</td>\n",
       "      <td>None</td>\n",
       "      <td>39371</td>\n",
       "      <td>...</td>\n",
       "      <td>1</td>\n",
       "      <td>orange</td>\n",
       "      <td>0.097049</td>\n",
       "      <td>False</td>\n",
       "      <td>bagel</td>\n",
       "      <td>0.085851</td>\n",
       "      <td>False</td>\n",
       "      <td>banana</td>\n",
       "      <td>0.076110</td>\n",
       "      <td>False</td>\n",
       "    </tr>\n",
       "    <tr>\n",
       "      <th>1</th>\n",
       "      <td>892177421306343426</td>\n",
       "      <td>2017-08-01 00:17:27 +0000</td>\n",
       "      <td>This is Tilly. She's just checking pup on you....</td>\n",
       "      <td>https://twitter.com/dog_rates/status/892177421...</td>\n",
       "      <td>13.0</td>\n",
       "      <td>10</td>\n",
       "      <td>1.3</td>\n",
       "      <td>Tilly</td>\n",
       "      <td>None</td>\n",
       "      <td>33694</td>\n",
       "      <td>...</td>\n",
       "      <td>1</td>\n",
       "      <td>Chihuahua</td>\n",
       "      <td>0.323581</td>\n",
       "      <td>True</td>\n",
       "      <td>Pekinese</td>\n",
       "      <td>0.090647</td>\n",
       "      <td>True</td>\n",
       "      <td>papillon</td>\n",
       "      <td>0.068957</td>\n",
       "      <td>True</td>\n",
       "    </tr>\n",
       "    <tr>\n",
       "      <th>2</th>\n",
       "      <td>891815181378084864</td>\n",
       "      <td>2017-07-31 00:18:03 +0000</td>\n",
       "      <td>This is Archie. He is a rare Norwegian Pouncin...</td>\n",
       "      <td>https://twitter.com/dog_rates/status/891815181...</td>\n",
       "      <td>12.0</td>\n",
       "      <td>10</td>\n",
       "      <td>1.2</td>\n",
       "      <td>Archie</td>\n",
       "      <td>None</td>\n",
       "      <td>25390</td>\n",
       "      <td>...</td>\n",
       "      <td>1</td>\n",
       "      <td>Chihuahua</td>\n",
       "      <td>0.716012</td>\n",
       "      <td>True</td>\n",
       "      <td>malamute</td>\n",
       "      <td>0.078253</td>\n",
       "      <td>True</td>\n",
       "      <td>kelpie</td>\n",
       "      <td>0.031379</td>\n",
       "      <td>True</td>\n",
       "    </tr>\n",
       "    <tr>\n",
       "      <th>3</th>\n",
       "      <td>891689557279858688</td>\n",
       "      <td>2017-07-30 15:58:51 +0000</td>\n",
       "      <td>This is Darla. She commenced a snooze mid meal...</td>\n",
       "      <td>https://twitter.com/dog_rates/status/891689557...</td>\n",
       "      <td>13.0</td>\n",
       "      <td>10</td>\n",
       "      <td>1.3</td>\n",
       "      <td>Darla</td>\n",
       "      <td>None</td>\n",
       "      <td>42739</td>\n",
       "      <td>...</td>\n",
       "      <td>1</td>\n",
       "      <td>paper_towel</td>\n",
       "      <td>0.170278</td>\n",
       "      <td>False</td>\n",
       "      <td>Labrador_retriever</td>\n",
       "      <td>0.168086</td>\n",
       "      <td>True</td>\n",
       "      <td>spatula</td>\n",
       "      <td>0.040836</td>\n",
       "      <td>False</td>\n",
       "    </tr>\n",
       "    <tr>\n",
       "      <th>4</th>\n",
       "      <td>891327558926688256</td>\n",
       "      <td>2017-07-29 16:00:24 +0000</td>\n",
       "      <td>This is Franklin. He would like you to stop ca...</td>\n",
       "      <td>https://twitter.com/dog_rates/status/891327558...</td>\n",
       "      <td>12.0</td>\n",
       "      <td>10</td>\n",
       "      <td>1.2</td>\n",
       "      <td>Franklin</td>\n",
       "      <td>None</td>\n",
       "      <td>40899</td>\n",
       "      <td>...</td>\n",
       "      <td>2</td>\n",
       "      <td>basset</td>\n",
       "      <td>0.555712</td>\n",
       "      <td>True</td>\n",
       "      <td>English_springer</td>\n",
       "      <td>0.225770</td>\n",
       "      <td>True</td>\n",
       "      <td>German_short-haired_pointer</td>\n",
       "      <td>0.175219</td>\n",
       "      <td>True</td>\n",
       "    </tr>\n",
       "  </tbody>\n",
       "</table>\n",
       "<p>5 rows × 22 columns</p>\n",
       "</div>"
      ],
      "text/plain": [
       "             tweet_id                  timestamp  \\\n",
       "0  892420643555336193  2017-08-01 16:23:56 +0000   \n",
       "1  892177421306343426  2017-08-01 00:17:27 +0000   \n",
       "2  891815181378084864  2017-07-31 00:18:03 +0000   \n",
       "3  891689557279858688  2017-07-30 15:58:51 +0000   \n",
       "4  891327558926688256  2017-07-29 16:00:24 +0000   \n",
       "\n",
       "                                                text  \\\n",
       "0  This is Phineas. He's a mystical boy. Only eve...   \n",
       "1  This is Tilly. She's just checking pup on you....   \n",
       "2  This is Archie. He is a rare Norwegian Pouncin...   \n",
       "3  This is Darla. She commenced a snooze mid meal...   \n",
       "4  This is Franklin. He would like you to stop ca...   \n",
       "\n",
       "                                          tweet_urls  rating_numerator  \\\n",
       "0  https://twitter.com/dog_rates/status/892420643...              13.0   \n",
       "1  https://twitter.com/dog_rates/status/892177421...              13.0   \n",
       "2  https://twitter.com/dog_rates/status/891815181...              12.0   \n",
       "3  https://twitter.com/dog_rates/status/891689557...              13.0   \n",
       "4  https://twitter.com/dog_rates/status/891327558...              12.0   \n",
       "\n",
       "   rating_denominator  rating_score      name dog_stage  favorite_count  \\\n",
       "0                  10           1.3   Phineas      None           39371   \n",
       "1                  10           1.3     Tilly      None           33694   \n",
       "2                  10           1.2    Archie      None           25390   \n",
       "3                  10           1.3     Darla      None           42739   \n",
       "4                  10           1.2  Franklin      None           40899   \n",
       "\n",
       "   ...    img_num           p1   p1_conf p1_dog                  p2   p2_conf  \\\n",
       "0  ...          1       orange  0.097049  False               bagel  0.085851   \n",
       "1  ...          1    Chihuahua  0.323581   True            Pekinese  0.090647   \n",
       "2  ...          1    Chihuahua  0.716012   True            malamute  0.078253   \n",
       "3  ...          1  paper_towel  0.170278  False  Labrador_retriever  0.168086   \n",
       "4  ...          2       basset  0.555712   True    English_springer  0.225770   \n",
       "\n",
       "  p2_dog                           p3   p3_conf p3_dog  \n",
       "0  False                       banana  0.076110  False  \n",
       "1   True                     papillon  0.068957   True  \n",
       "2   True                       kelpie  0.031379   True  \n",
       "3   True                      spatula  0.040836  False  \n",
       "4   True  German_short-haired_pointer  0.175219   True  \n",
       "\n",
       "[5 rows x 22 columns]"
      ]
     },
     "execution_count": 56,
     "metadata": {},
     "output_type": "execute_result"
    }
   ],
   "source": [
    "# Import CSV file\n",
    "df = pd.read_csv('twitter_archive_master.csv')"
   ]
  },
  {
   "cell_type": "code",
   "execution_count": 8,
   "metadata": {},
   "outputs": [
    {
     "name": "stdout",
     "output_type": "stream",
     "text": [
      "Populating the interactive namespace from numpy and matplotlib\n"
     ]
    }
   ],
   "source": [
    "# Figure Parameters\n",
    "% pylab inline\n",
    "sns.set(style=\"darkgrid\", font_scale=1.2);"
   ]
  },
  {
   "cell_type": "code",
   "execution_count": 32,
   "metadata": {},
   "outputs": [
    {
     "data": {
      "image/png": "[encoded data removed]",
      "text/plain": [
       "<matplotlib.figure.Figure at 0x1ca2cd30cc0>"
      ]
     },
     "metadata": {},
     "output_type": "display_data"
    }
   ],
   "source": [
    "# Histogram of Rating_scores; reduced window to exclude 4 data points with rating_score > 1.4\n",
    "bins = [0,0.1,0.2,0.3,0.4,0.5,0.6,0.7,0.8,0.9,1.0,1.1,1.2,1.3,1.4]\n",
    "\n",
    "plt.hist(df['rating_score'], bins);\n",
    "plt.xlabel('Rating Score');\n",
    "plt.ylabel('Count');\n",
    "plt.title('Rating Score Distribution');\n",
    "\n",
    "savefig('rating_score_distribution.jpg')"
   ]
  },
  {
   "cell_type": "markdown",
   "metadata": {},
   "source": [
    "- WeRateDogs seems to favor giving ratings above 1.0"
   ]
  },
  {
   "cell_type": "code",
   "execution_count": 33,
   "metadata": {},
   "outputs": [
    {
     "data": {
      "image/png": "[encoded data removed]",
      "text/plain": [
       "<matplotlib.figure.Figure at 0x1ca2cf89898>"
      ]
     },
     "metadata": {},
     "output_type": "display_data"
    }
   ],
   "source": [
    "# Scatterplot favorite_count vs retweet_count\n",
    "plt.scatter(x=df['favorite_count'], y=df['retweet_count'])\n",
    "plt.xlabel('Favorite Count');\n",
    "plt.ylabel('Retweet Count');\n",
    "plt.title('Favorite Count vs Retweet Count');\n",
    "\n",
    "savefig('fav_count_vs_retweet_count.jpg')"
   ]
  },
  {
   "cell_type": "markdown",
   "metadata": {},
   "source": [
    "- There seems to be a strong positive correlation between the number of times a tweet was favorited and how many times it was retweeted"
   ]
  },
  {
   "cell_type": "code",
   "execution_count": 34,
   "metadata": {},
   "outputs": [
    {
     "data": {
      "image/png": "[encoded data removed]",
      "text/plain": [
       "<matplotlib.figure.Figure at 0x1ca2d038470>"
      ]
     },
     "metadata": {},
     "output_type": "display_data"
    }
   ],
   "source": [
    "# Scatterplot Favorite Count vs Rating Count\n",
    "plt.scatter(x=df['favorite_count'], y=df['rating_score'])\n",
    "plt.ylim(0, 1.5)\n",
    "plt.xlabel('Favorite Count');\n",
    "plt.ylabel('Rating Score');\n",
    "plt.title('Favorite Count vs Rating Score');\n",
    "\n",
    "savefig('fav_count_vs_rating_score.jpg')"
   ]
  },
  {
   "cell_type": "markdown",
   "metadata": {},
   "source": [
    "- As the rating score increases for each tweet, there seems to be increasing favorite count"
   ]
  },
  {
   "cell_type": "code",
   "execution_count": 35,
   "metadata": {},
   "outputs": [
    {
     "data": {
      "image/png": "[encoded data removed]",
      "text/plain": [
       "<matplotlib.figure.Figure at 0x1ca2d088f60>"
      ]
     },
     "metadata": {},
     "output_type": "display_data"
    }
   ],
   "source": [
    "# Scatterplot Retweet Count vs Rating Count\n",
    "plt.scatter(x=df['retweet_count'], y=df['rating_score'])\n",
    "plt.ylim(0, 1.5)\n",
    "plt.xlabel('Retweet Count');\n",
    "plt.ylabel('Rating Score');\n",
    "plt.title('Retweet Count vs Rating Score');\n",
    "\n",
    "savefig('retweet_count_vs_rating_score.jpg')"
   ]
  },
  {
   "cell_type": "markdown",
   "metadata": {},
   "source": [
    "- As the rating score increases for each tweet, there seems to be increasing retweet count"
   ]
  },
  {
   "cell_type": "code",
   "execution_count": 60,
   "metadata": {},
   "outputs": [
    {
     "data": {
      "image/png": "[encoded data removed]",
      "text/plain": [
       "<matplotlib.figure.Figure at 0x1ca2eab8978>"
      ]
     },
     "metadata": {},
     "output_type": "display_data"
    }
   ],
   "source": [
    "# Histogram of first prediction Confidence Scores\n",
    "bins = [0.0, 0.1, 0.2, 0.3, 0.4, 0.5, 0.6, 0.7, 0.8, 0.9, 1.0]\n",
    "plt.hist(df['p1_conf'], bins);\n",
    "plt.xlim(0,1.0)\n",
    "plt.xlabel('First Prediction Confidence Score');\n",
    "plt.ylabel('Count');\n",
    "plt.title('First Prediction Confidence Score Distribution');\n",
    "\n",
    "savefig('first_prediction_distribution.jpg')"
   ]
  },
  {
   "cell_type": "markdown",
   "metadata": {},
   "source": [
    "- The majority of first predictions of the type of animal in the tweet images is below 80%."
   ]
  },
  {
   "cell_type": "code",
   "execution_count": 61,
   "metadata": {},
   "outputs": [
    {
     "data": {
      "image/png": "[encoded data removed]",
      "text/plain": [
       "<matplotlib.figure.Figure at 0x1ca2cc5b080>"
      ]
     },
     "metadata": {},
     "output_type": "display_data"
    }
   ],
   "source": [
    "# Histogram of Prediction Confidence Scores\n",
    "bins = [0.0, 0.1, 0.2, 0.3, 0.4, 0.5, 0.6, 0.7, 0.8, 0.9, 1.0]\n",
    "plt.hist(df['p1_conf'], bins, alpha=0.5, label='First Prediction');\n",
    "plt.hist(df['p2_conf'], bins, alpha=0.5, label='Second Prediction');\n",
    "plt.hist(df['p3_conf'], bins, alpha=0.5, label='Third Prediction');\n",
    "plt.xlim(0,1.0)\n",
    "plt.xlabel('Prediction Confidence Score');\n",
    "plt.ylabel('Count');\n",
    "plt.title('Prediction Confidence Score Distribution');\n",
    "plt.legend(loc='upper right');\n",
    "\n",
    "savefig('prediction_score_distribution.jpg')"
   ]
  },
  {
   "cell_type": "markdown",
   "metadata": {},
   "source": [
    "- The animal classifications for the tweet images seem to be for the most part not very confident after the first prediction.\n",
    "- By the second prediction, predictions are vastly under 40% confident\n",
    "- By the third prediction, predictions are vastly under 20% confident"
   ]
  }
 ],
 "metadata": {
  "kernelspec": {
   "display_name": "Python [default]",
   "language": "python",
   "name": "python3"
  },
  "language_info": {
   "codemirror_mode": {
    "name": "ipython",
    "version": 3
   },
   "file_extension": ".py",
   "mimetype": "text/x-python",
   "name": "python",
   "nbconvert_exporter": "python",
   "pygments_lexer": "ipython3",
   "version": "3.6.1"
  }
 },
 "nbformat": 4,
 "nbformat_minor": 2
}
